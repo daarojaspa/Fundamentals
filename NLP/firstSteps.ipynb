{
 "cells": [
  {
   "cell_type": "code",
   "execution_count": 4,
   "id": "a488ca79",
   "metadata": {},
   "outputs": [],
   "source": [
    "import nltk\n",
    "import re"
   ]
  },
  {
   "cell_type": "code",
   "execution_count": 2,
   "id": "ac06a92a",
   "metadata": {},
   "outputs": [
    {
     "name": "stderr",
     "output_type": "stream",
     "text": [
      "[nltk_data] Downloading package cess_esp to /home/dan/nltk_data...\n",
      "[nltk_data]   Package cess_esp is already up-to-date!\n"
     ]
    },
    {
     "data": {
      "text/plain": [
       "True"
      ]
     },
     "execution_count": 2,
     "metadata": {},
     "output_type": "execute_result"
    }
   ],
   "source": [
    "nltk.download(\"cess_esp\")"
   ]
  },
  {
   "cell_type": "code",
   "execution_count": 3,
   "id": "add4ee7f",
   "metadata": {},
   "outputs": [
    {
     "name": "stdout",
     "output_type": "stream",
     "text": [
      "['jueves', ',', 'la', 'compra', 'del', '51_por_ciento', 'de', 'la', 'empresa', 'mexicana', 'Electricidad_Águila_de_Altamira', '-Fpa-', 'EAA', '-Fpt-', ',']\n"
     ]
    }
   ],
   "source": [
    "corpus=nltk.corpus.cess_esp.sents()\n",
    "flatten=[words for lines in corpus for words in lines]\n",
    "\n",
    "print(flatten[10:25])"
   ]
  },
  {
   "cell_type": "code",
   "execution_count": 4,
   "id": "01650718",
   "metadata": {},
   "outputs": [
    {
     "name": "stdout",
     "output_type": "stream",
     "text": [
      "['esta', 'militantes', 'esta', 'eso', 'es', 'militantes', 'populares', 'militantes', 'especial', 'especialmente', 'elecciones', 'generales', 'este', 'estas', 'elecciones']\n"
     ]
    }
   ],
   "source": [
    "array=[w for w in flatten if re.search(r'(^es|es$)',w)]\n",
    "print(array[10:25])"
   ]
  },
  {
   "cell_type": "markdown",
   "id": "09e74344",
   "metadata": {},
   "source": [
    "text tokenization"
   ]
  },
  {
   "cell_type": "code",
   "execution_count": 5,
   "id": "24d0ee92",
   "metadata": {},
   "outputs": [
    {
     "name": "stdout",
     "output_type": "stream",
     "text": [
      "['\\nnow', 'i', 'got', 'mortgages', 'on', 'homes,', 'i', 'got', 'stiffness', 'in', 'my', 'bones', ',', \"Ain't\", 'no', 'beauty', 'queens', 'in', 'this', 'locality', '(i', 'tell', 'you)\\nho', 'but', 'i', 'still', 'get', 'my', 'pleasure,', 'still', 'got', 'my', 'greatest', 'treasure,', 'hey', 'big', 'woman,\\ngonna', 'make', 'a', 'big', 'man', 'of', 'me,', 'now', 'get', 'this', '...\\n']\n",
      "['', 'now', 'i', 'got', 'mortgages', 'on', 'homes', 'i', 'got', 'stiffness', 'in', 'my', 'bones', 'Ain', 't', 'no', 'beauty', 'queens', 'in', 'this', 'locality', 'i', 'tell', 'you', 'ho', 'but', 'i', 'still', 'get', 'my', 'pleasure', 'still', 'got', 'my', 'greatest', 'treasure', 'hey', 'big', 'woman', 'gonna', 'make', 'a', 'big', 'man', 'of', 'me', 'now', 'get', 'this', '']\n"
     ]
    }
   ],
   "source": [
    "text=\"\"\"\n",
    "now i got mortgages on homes, i got stiffness in my bones , Ain't no beauty queens in this locality (i tell you)\n",
    "ho but i still get my pleasure, still got my greatest treasure, hey big woman,\n",
    "gonna make a big man of me, now get this ...\n",
    "\"\"\"\n",
    "#by spaces\n",
    "print (re.split(r' ',text))\n",
    "#using reguex\n",
    "print (re.split(r'[ \\t\\n\\W]+',text))"
   ]
  },
  {
   "cell_type": "code",
   "execution_count": 7,
   "id": "2c3fdbaa",
   "metadata": {},
   "outputs": [
    {
     "data": {
      "text/plain": [
       "['in', 'the', 'E.U', 'that', 'post', 'card', 'is', 'worth', '$', '1.50', '...']"
      ]
     },
     "execution_count": 7,
     "metadata": {},
     "output_type": "execute_result"
    }
   ],
   "source": [
    "text=\"\"\"in the E.U that post card is worth $1.50 ...\"\"\"\n",
    "\n",
    "#this normally uses more advance reguex patterns in the functions it implements\n",
    "nltk.tokenize.word_tokenize(text,language='Engish',preserve_line=True)"
   ]
  },
  {
   "cell_type": "code",
   "execution_count": 8,
   "id": "e9bcbe4f",
   "metadata": {},
   "outputs": [
    {
     "name": "stderr",
     "output_type": "stream",
     "text": [
      "[nltk_data] Downloading collection 'book'\n",
      "[nltk_data]    | \n",
      "[nltk_data]    | Downloading package abc to /home/dan/nltk_data...\n",
      "[nltk_data]    |   Unzipping corpora/abc.zip.\n",
      "[nltk_data]    | Downloading package brown to /home/dan/nltk_data...\n",
      "[nltk_data]    |   Unzipping corpora/brown.zip.\n",
      "[nltk_data]    | Downloading package chat80 to /home/dan/nltk_data...\n",
      "[nltk_data]    |   Unzipping corpora/chat80.zip.\n",
      "[nltk_data]    | Downloading package cmudict to /home/dan/nltk_data...\n",
      "[nltk_data]    |   Unzipping corpora/cmudict.zip.\n",
      "[nltk_data]    | Downloading package conll2000 to\n",
      "[nltk_data]    |     /home/dan/nltk_data...\n",
      "[nltk_data]    |   Unzipping corpora/conll2000.zip.\n",
      "[nltk_data]    | Downloading package conll2002 to\n",
      "[nltk_data]    |     /home/dan/nltk_data...\n",
      "[nltk_data]    |   Unzipping corpora/conll2002.zip.\n",
      "[nltk_data]    | Downloading package dependency_treebank to\n",
      "[nltk_data]    |     /home/dan/nltk_data...\n",
      "[nltk_data]    |   Unzipping corpora/dependency_treebank.zip.\n",
      "[nltk_data]    | Downloading package genesis to /home/dan/nltk_data...\n",
      "[nltk_data]    |   Unzipping corpora/genesis.zip.\n",
      "[nltk_data]    | Downloading package gutenberg to\n",
      "[nltk_data]    |     /home/dan/nltk_data...\n",
      "[nltk_data]    |   Unzipping corpora/gutenberg.zip.\n",
      "[nltk_data]    | Downloading package ieer to /home/dan/nltk_data...\n",
      "[nltk_data]    |   Unzipping corpora/ieer.zip.\n",
      "[nltk_data]    | Downloading package inaugural to\n",
      "[nltk_data]    |     /home/dan/nltk_data...\n",
      "[nltk_data]    |   Unzipping corpora/inaugural.zip.\n",
      "[nltk_data]    | Downloading package movie_reviews to\n",
      "[nltk_data]    |     /home/dan/nltk_data...\n",
      "[nltk_data]    |   Unzipping corpora/movie_reviews.zip.\n",
      "[nltk_data]    | Downloading package nps_chat to\n",
      "[nltk_data]    |     /home/dan/nltk_data...\n",
      "[nltk_data]    |   Unzipping corpora/nps_chat.zip.\n",
      "[nltk_data]    | Downloading package names to /home/dan/nltk_data...\n",
      "[nltk_data]    |   Unzipping corpora/names.zip.\n",
      "[nltk_data]    | Downloading package ppattach to\n",
      "[nltk_data]    |     /home/dan/nltk_data...\n",
      "[nltk_data]    |   Unzipping corpora/ppattach.zip.\n",
      "[nltk_data]    | Downloading package reuters to /home/dan/nltk_data...\n",
      "[nltk_data]    | Downloading package senseval to\n",
      "[nltk_data]    |     /home/dan/nltk_data...\n",
      "[nltk_data]    |   Unzipping corpora/senseval.zip.\n",
      "[nltk_data]    | Downloading package state_union to\n",
      "[nltk_data]    |     /home/dan/nltk_data...\n",
      "[nltk_data]    |   Unzipping corpora/state_union.zip.\n",
      "[nltk_data]    | Downloading package stopwords to\n",
      "[nltk_data]    |     /home/dan/nltk_data...\n",
      "[nltk_data]    |   Unzipping corpora/stopwords.zip.\n",
      "[nltk_data]    | Downloading package swadesh to /home/dan/nltk_data...\n",
      "[nltk_data]    |   Unzipping corpora/swadesh.zip.\n",
      "[nltk_data]    | Downloading package timit to /home/dan/nltk_data...\n",
      "[nltk_data]    |   Unzipping corpora/timit.zip.\n",
      "[nltk_data]    | Downloading package treebank to\n",
      "[nltk_data]    |     /home/dan/nltk_data...\n",
      "[nltk_data]    |   Unzipping corpora/treebank.zip.\n",
      "[nltk_data]    | Downloading package toolbox to /home/dan/nltk_data...\n",
      "[nltk_data]    |   Unzipping corpora/toolbox.zip.\n",
      "[nltk_data]    | Downloading package udhr to /home/dan/nltk_data...\n",
      "[nltk_data]    |   Unzipping corpora/udhr.zip.\n",
      "[nltk_data]    | Downloading package udhr2 to /home/dan/nltk_data...\n",
      "[nltk_data]    |   Unzipping corpora/udhr2.zip.\n",
      "[nltk_data]    | Downloading package unicode_samples to\n",
      "[nltk_data]    |     /home/dan/nltk_data...\n",
      "[nltk_data]    |   Unzipping corpora/unicode_samples.zip.\n",
      "[nltk_data]    | Downloading package webtext to /home/dan/nltk_data...\n",
      "[nltk_data]    |   Unzipping corpora/webtext.zip.\n",
      "[nltk_data]    | Downloading package wordnet to /home/dan/nltk_data...\n",
      "[nltk_data]    | Downloading package wordnet_ic to\n",
      "[nltk_data]    |     /home/dan/nltk_data...\n",
      "[nltk_data]    |   Unzipping corpora/wordnet_ic.zip.\n",
      "[nltk_data]    | Downloading package words to /home/dan/nltk_data...\n",
      "[nltk_data]    |   Unzipping corpora/words.zip.\n",
      "[nltk_data]    | Downloading package maxent_treebank_pos_tagger to\n",
      "[nltk_data]    |     /home/dan/nltk_data...\n",
      "[nltk_data]    |   Unzipping taggers/maxent_treebank_pos_tagger.zip.\n",
      "[nltk_data]    | Downloading package maxent_ne_chunker to\n",
      "[nltk_data]    |     /home/dan/nltk_data...\n",
      "[nltk_data]    |   Unzipping chunkers/maxent_ne_chunker.zip.\n",
      "[nltk_data]    | Downloading package universal_tagset to\n",
      "[nltk_data]    |     /home/dan/nltk_data...\n",
      "[nltk_data]    |   Unzipping taggers/universal_tagset.zip.\n",
      "[nltk_data]    | Downloading package punkt to /home/dan/nltk_data...\n",
      "[nltk_data]    |   Package punkt is already up-to-date!\n",
      "[nltk_data]    | Downloading package book_grammars to\n",
      "[nltk_data]    |     /home/dan/nltk_data...\n",
      "[nltk_data]    |   Unzipping grammars/book_grammars.zip.\n",
      "[nltk_data]    | Downloading package city_database to\n",
      "[nltk_data]    |     /home/dan/nltk_data...\n",
      "[nltk_data]    |   Unzipping corpora/city_database.zip.\n",
      "[nltk_data]    | Downloading package tagsets to /home/dan/nltk_data...\n",
      "[nltk_data]    |   Unzipping help/tagsets.zip.\n",
      "[nltk_data]    | Downloading package panlex_swadesh to\n",
      "[nltk_data]    |     /home/dan/nltk_data...\n",
      "[nltk_data]    | Downloading package averaged_perceptron_tagger to\n",
      "[nltk_data]    |     /home/dan/nltk_data...\n",
      "[nltk_data]    |   Package averaged_perceptron_tagger is already up-\n",
      "[nltk_data]    |       to-date!\n",
      "[nltk_data]    | \n",
      "[nltk_data]  Done downloading collection book\n"
     ]
    },
    {
     "data": {
      "text/plain": [
       "True"
      ]
     },
     "execution_count": 8,
     "metadata": {},
     "output_type": "execute_result"
    }
   ],
   "source": [
    "nltk.download(\"book\")"
   ]
  },
  {
   "cell_type": "markdown",
   "id": "6f1d8e94",
   "metadata": {},
   "source": [
    "how to do statistics on a corpus\n"
   ]
  },
  {
   "cell_type": "code",
   "execution_count": 11,
   "id": "e3464960",
   "metadata": {},
   "outputs": [],
   "source": [
    "from nltk.book import *\n",
    "from matplotlib import pyplot as plt\n",
    "import numpy as np"
   ]
  },
  {
   "cell_type": "code",
   "execution_count": 11,
   "id": "096b4c90",
   "metadata": {},
   "outputs": [
    {
     "name": "stdout",
     "output_type": "stream",
     "text": [
      "260819\n"
     ]
    }
   ],
   "source": [
    "text1.tokens[103:107]\n",
    "print (len(text1))"
   ]
  },
  {
   "cell_type": "markdown",
   "id": "fb10284f",
   "metadata": {},
   "source": [
    "lexical richnes is define as the porcentaje of  unique words  on a text"
   ]
  },
  {
   "cell_type": "code",
   "execution_count": 3,
   "id": "a8bceb53",
   "metadata": {},
   "outputs": [
    {
     "name": "stdout",
     "output_type": "stream",
     "text": [
      "*** Introductory Examples for the NLTK Book ***\n",
      "Loading text1, ..., text9 and sent1, ..., sent9\n",
      "Type the name of the text or sentence to view it.\n",
      "Type: 'texts()' or 'sents()' to list the materials.\n"
     ]
    },
    {
     "name": "stdout",
     "output_type": "stream",
     "text": [
      "text1: Moby Dick by Herman Melville 1851\n",
      "text2: Sense and Sensibility by Jane Austen 1811\n",
      "text3: The Book of Genesis\n",
      "text4: Inaugural Address Corpus\n",
      "text5: Chat Corpus\n",
      "text6: Monty Python and the Holy Grail\n",
      "text7: Wall Street Journal\n",
      "text8: Personals Corpus\n",
      "text9: The Man Who Was Thursday by G . K . Chesterton 1908\n"
     ]
    },
    {
     "data": {
      "text/plain": [
       "{'austen-emma.txt': 0.04059201671283136,\n",
       " 'austen-persuasion.txt': 0.062462437990852694,\n",
       " 'austen-sense.txt': 0.04826383002768831,\n",
       " 'bible-kjv.txt': 0.01362385148626533,\n",
       " 'blake-poems.txt': 0.2178597079243476,\n",
       " 'bryant-stories.txt': 0.07954934038838796,\n",
       " 'burgess-busterbrown.txt': 0.09302325581395349,\n",
       " 'carroll-alice.txt': 0.08841981823512167,\n",
       " 'chesterton-ball.txt': 0.09224091715122273,\n",
       " 'chesterton-brown.txt': 0.09642935988752425,\n",
       " 'chesterton-thursday.txt': 0.0983485761345412,\n",
       " 'edgeworth-parents.txt': 0.04553718498265001,\n",
       " 'melville-moby_dick.txt': 0.07406285585022564,\n",
       " 'milton-paradise.txt': 0.11103537309579138,\n",
       " 'shakespeare-caesar.txt': 0.1378082297836101,\n",
       " 'shakespeare-hamlet.txt': 0.14579764453961455,\n",
       " 'shakespeare-macbeth.txt': 0.17359550561797754,\n",
       " 'whitman-leaves.txt': 0.09251499518991756}"
      ]
     },
     "execution_count": 3,
     "metadata": {},
     "output_type": "execute_result"
    }
   ],
   "source": [
    "from nltk.corpus import gutenberg\n",
    "\n",
    "books_dict = {fileid: gutenberg.words(fileid) for fileid in gutenberg.fileids()}\n",
    "\n",
    "from nltk.book import *\n",
    "# Note: When you import nltk.book, it loads sample texts as variables like text1, text2, ...\n",
    "\n",
    "def lexical_richness(text):\n",
    "    \"\"\"Calculate lexical richness as the number of unique words divided by total words.\"\"\"\n",
    "    return len(set(text)) / len(text)\n",
    "\n",
    "def texts_lexical_richness(texts_dict):\n",
    "    \"\"\"\n",
    "    Receives a dictionary of texts from nltk.book (key: title, value: Text object)\n",
    "    Returns a dictionary {title: lexical richness}\n",
    "    \"\"\"\n",
    "    richness_dict = {}\n",
    "    for title, text in texts_dict.items():  # For cycle as requested\n",
    "        richness_dict[title] = lexical_richness(text)\n",
    "    return richness_dict\n",
    "texts_lexical_richness(books_dict)"
   ]
  },
  {
   "cell_type": "markdown",
   "id": "b5da4374",
   "metadata": {},
   "source": [
    "\n",
    "we have calculate the lexical richnes of a hole lott of documents, now we will calculate the frecuency and filter the words of  a text"
   ]
  },
  {
   "cell_type": "code",
   "execution_count": 4,
   "id": "a4f4d020",
   "metadata": {},
   "outputs": [
    {
     "data": {
      "text/plain": [
       "[('the', 9670),\n",
       " (',', 7499),\n",
       " ('of', 7260),\n",
       " ('and', 5356),\n",
       " ('.', 5186),\n",
       " ('to', 4562),\n",
       " ('in', 2629),\n",
       " ('a', 2277),\n",
       " ('our', 2126),\n",
       " ('that', 1807)]"
      ]
     },
     "execution_count": 4,
     "metadata": {},
     "output_type": "execute_result"
    }
   ],
   "source": [
    "dist=FreqDist(text4)# this is a function of nltk that makes a  freq-term list\n",
    "dist.most_common(10)"
   ]
  },
  {
   "cell_type": "code",
   "execution_count": 8,
   "id": "8ac40e3b",
   "metadata": {},
   "outputs": [],
   "source": [
    "import numpy as np\n",
    "long_words=[words for words in text4 if len(words)>2]\n",
    "filtered_vocavulary=sorted(set(long_words))\n",
    "word_dist=FreqDist(filtered_vocavulary)\n",
    "interesting_words=[(word,dist[word])for word  in set(text4)if len(word)>6 and dist[word]>15]"
   ]
  },
  {
   "cell_type": "code",
   "execution_count": 9,
   "id": "18f60141",
   "metadata": {},
   "outputs": [],
   "source": [
    "#this is what the freqdist function does  under the hood\n",
    "dtypes=[('words','S10'),('frequency',int)]\n",
    "interesting_words=np.array(interesting_words,dtype=dtypes)\n",
    "interesting_words=np.sort(interesting_words,order=\"frequency\")"
   ]
  },
  {
   "cell_type": "code",
   "execution_count": 12,
   "id": "8b627b1f",
   "metadata": {},
   "outputs": [
    {
     "data": {
      "image/png": "[encoded data removed]",
      "text/plain": [
       "<Figure size 1000x400 with 1 Axes>"
      ]
     },
     "metadata": {},
     "output_type": "display_data"
    }
   ],
   "source": [
    "# this is more less what the  FreqDist.plot method does under the hood\n",
    "top=10\n",
    "X=np.arange(len(interesting_words[-top:]))\n",
    "Y=[freq[1] for freq in interesting_words[-top:]]\n",
    "plt.figure(figsize=(10,4))\n",
    "plt.plot(X,Y)\n",
    "plt.xticks(X,[str (freq[0]) for freq in interesting_words[-top:]],rotation='vertical')\n",
    "plt.grid(True)\n",
    "plt.show()"
   ]
  },
  {
   "cell_type": "markdown",
   "id": "84701318",
   "metadata": {},
   "source": [
    "did you understood the code above? okey now \n",
    "Ngrams are sequences of N words that are  secuential in a phrase\n",
    "now inside he Ngrams we can find a cultural, linguistic phenomenam call collocations, it appear to  happen across varius languages . The moust common are verb+ noun , adjective+noun and noun + noun (by the way N -grams have in account the order of words in text)\n"
   ]
  },
  {
   "cell_type": "code",
   "execution_count": 13,
   "id": "96619751",
   "metadata": {},
   "outputs": [
    {
     "data": {
      "text/plain": [
       "[(('of', 'the'), 1784), ((',', 'and'), 1404), (('in', 'the'), 765)]"
      ]
     },
     "execution_count": 13,
     "metadata": {},
     "output_type": "execute_result"
    }
   ],
   "source": [
    "#import plotly.express as px\n",
    "#import nltk.util as n\n",
    "x=list(bigrams(text4))\n",
    "#print(x[45:56])\n",
    "\n",
    "bigramsFreq=FreqDist(x)\n",
    "bigramsFreq.most_common(3)"
   ]
  },
  {
   "cell_type": "code",
   "execution_count": 14,
   "id": "90e6b198",
   "metadata": {},
   "outputs": [
    {
     "data": {
      "text/plain": [
       "<Axes: xlabel='Samples', ylabel='Counts'>"
      ]
     },
     "execution_count": 14,
     "metadata": {},
     "output_type": "execute_result"
    },
    {
     "data": {
      "image/png": "[encoded data removed]",
      "text/plain": [
       "<Figure size 640x480 with 1 Axes>"
      ]
     },
     "metadata": {},
     "output_type": "display_data"
    }
   ],
   "source": [
    "filtered_bigrams=[words for words in x if len(words[0]) > 1 and len(words[1])>3]\n",
    "dist=FreqDist(filtered_bigrams)\n",
    "dist.plot(4)"
   ]
  },
  {
   "cell_type": "code",
   "execution_count": 15,
   "id": "6bf37750",
   "metadata": {},
   "outputs": [
    {
     "name": "stderr",
     "output_type": "stream",
     "text": [
      "/tmp/ipykernel_3853/1731120545.py:10: RuntimeWarning: divide by zero encountered in scalar divide\n",
      "  lambda x: np.log2(x[\"bigrams_freq\"] / (x[\"word0_freq\"] * x[\"word1_freq\"])),\n"
     ]
    },
    {
     "data": {
      "text/html": [
       "<div>\n",
       "<style scoped>\n",
       "    .dataframe tbody tr th:only-of-type {\n",
       "        vertical-align: middle;\n",
       "    }\n",
       "\n",
       "    .dataframe tbody tr th {\n",
       "        vertical-align: top;\n",
       "    }\n",
       "\n",
       "    .dataframe thead th {\n",
       "        text-align: right;\n",
       "    }\n",
       "</style>\n",
       "<table border=\"1\" class=\"dataframe\">\n",
       "  <thead>\n",
       "    <tr style=\"text-align: right;\">\n",
       "      <th></th>\n",
       "      <th>bigrams</th>\n",
       "      <th>word0</th>\n",
       "      <th>word1</th>\n",
       "      <th>bigrams_freq</th>\n",
       "      <th>word0_freq</th>\n",
       "      <th>word1_freq</th>\n",
       "      <th>PWMI</th>\n",
       "    </tr>\n",
       "  </thead>\n",
       "  <tbody>\n",
       "    <tr>\n",
       "      <th>33626</th>\n",
       "      <td>(clean, satisfaction)</td>\n",
       "      <td>clean</td>\n",
       "      <td>satisfaction</td>\n",
       "      <td>1</td>\n",
       "      <td>1</td>\n",
       "      <td>1</td>\n",
       "      <td>0.0</td>\n",
       "    </tr>\n",
       "    <tr>\n",
       "      <th>21363</th>\n",
       "      <td>(themselves, subjected)</td>\n",
       "      <td>themselves</td>\n",
       "      <td>subjected</td>\n",
       "      <td>1</td>\n",
       "      <td>1</td>\n",
       "      <td>1</td>\n",
       "      <td>0.0</td>\n",
       "    </tr>\n",
       "    <tr>\n",
       "      <th>39665</th>\n",
       "      <td>(more, independent)</td>\n",
       "      <td>more</td>\n",
       "      <td>independent</td>\n",
       "      <td>1</td>\n",
       "      <td>1</td>\n",
       "      <td>1</td>\n",
       "      <td>0.0</td>\n",
       "    </tr>\n",
       "    <tr>\n",
       "      <th>19572</th>\n",
       "      <td>(different, reality)</td>\n",
       "      <td>different</td>\n",
       "      <td>reality</td>\n",
       "      <td>1</td>\n",
       "      <td>1</td>\n",
       "      <td>1</td>\n",
       "      <td>0.0</td>\n",
       "    </tr>\n",
       "    <tr>\n",
       "      <th>9460</th>\n",
       "      <td>(its, leading)</td>\n",
       "      <td>its</td>\n",
       "      <td>leading</td>\n",
       "      <td>1</td>\n",
       "      <td>1</td>\n",
       "      <td>1</td>\n",
       "      <td>0.0</td>\n",
       "    </tr>\n",
       "    <tr>\n",
       "      <th>14012</th>\n",
       "      <td>(gradual, waste)</td>\n",
       "      <td>gradual</td>\n",
       "      <td>waste</td>\n",
       "      <td>1</td>\n",
       "      <td>1</td>\n",
       "      <td>1</td>\n",
       "      <td>0.0</td>\n",
       "    </tr>\n",
       "    <tr>\n",
       "      <th>9103</th>\n",
       "      <td>(but, consider)</td>\n",
       "      <td>but</td>\n",
       "      <td>consider</td>\n",
       "      <td>1</td>\n",
       "      <td>1</td>\n",
       "      <td>1</td>\n",
       "      <td>0.0</td>\n",
       "    </tr>\n",
       "    <tr>\n",
       "      <th>16819</th>\n",
       "      <td>(who, shall)</td>\n",
       "      <td>who</td>\n",
       "      <td>shall</td>\n",
       "      <td>1</td>\n",
       "      <td>1</td>\n",
       "      <td>1</td>\n",
       "      <td>0.0</td>\n",
       "    </tr>\n",
       "    <tr>\n",
       "      <th>15099</th>\n",
       "      <td>(the, promises)</td>\n",
       "      <td>the</td>\n",
       "      <td>promises</td>\n",
       "      <td>1</td>\n",
       "      <td>1</td>\n",
       "      <td>1</td>\n",
       "      <td>0.0</td>\n",
       "    </tr>\n",
       "    <tr>\n",
       "      <th>25495</th>\n",
       "      <td>(Standing, here)</td>\n",
       "      <td>Standing</td>\n",
       "      <td>here</td>\n",
       "      <td>1</td>\n",
       "      <td>1</td>\n",
       "      <td>1</td>\n",
       "      <td>0.0</td>\n",
       "    </tr>\n",
       "    <tr>\n",
       "      <th>6325</th>\n",
       "      <td>(live, today)</td>\n",
       "      <td>live</td>\n",
       "      <td>today</td>\n",
       "      <td>1</td>\n",
       "      <td>1</td>\n",
       "      <td>1</td>\n",
       "      <td>0.0</td>\n",
       "    </tr>\n",
       "    <tr>\n",
       "      <th>32886</th>\n",
       "      <td>(nor, desolated)</td>\n",
       "      <td>nor</td>\n",
       "      <td>desolated</td>\n",
       "      <td>1</td>\n",
       "      <td>1</td>\n",
       "      <td>1</td>\n",
       "      <td>0.0</td>\n",
       "    </tr>\n",
       "    <tr>\n",
       "      <th>20178</th>\n",
       "      <td>(their, purpose)</td>\n",
       "      <td>their</td>\n",
       "      <td>purpose</td>\n",
       "      <td>2</td>\n",
       "      <td>1</td>\n",
       "      <td>1</td>\n",
       "      <td>1.0</td>\n",
       "    </tr>\n",
       "  </tbody>\n",
       "</table>\n",
       "</div>"
      ],
      "text/plain": [
       "                       bigrams       word0         word1  bigrams_freq  \\\n",
       "33626    (clean, satisfaction)       clean  satisfaction             1   \n",
       "21363  (themselves, subjected)  themselves     subjected             1   \n",
       "39665      (more, independent)        more   independent             1   \n",
       "19572     (different, reality)   different       reality             1   \n",
       "9460            (its, leading)         its       leading             1   \n",
       "14012         (gradual, waste)     gradual         waste             1   \n",
       "9103           (but, consider)         but      consider             1   \n",
       "16819             (who, shall)         who         shall             1   \n",
       "15099          (the, promises)         the      promises             1   \n",
       "25495         (Standing, here)    Standing          here             1   \n",
       "6325             (live, today)        live         today             1   \n",
       "32886         (nor, desolated)         nor     desolated             1   \n",
       "20178         (their, purpose)       their       purpose             2   \n",
       "\n",
       "       word0_freq  word1_freq  PWMI  \n",
       "33626           1           1   0.0  \n",
       "21363           1           1   0.0  \n",
       "39665           1           1   0.0  \n",
       "19572           1           1   0.0  \n",
       "9460            1           1   0.0  \n",
       "14012           1           1   0.0  \n",
       "9103            1           1   0.0  \n",
       "16819           1           1   0.0  \n",
       "15099           1           1   0.0  \n",
       "25495           1           1   0.0  \n",
       "6325            1           1   0.0  \n",
       "32886           1           1   0.0  \n",
       "20178           1           1   1.0  "
      ]
     },
     "execution_count": 15,
     "metadata": {},
     "output_type": "execute_result"
    }
   ],
   "source": [
    "import pandas as pd\n",
    "df=pd.DataFrame()\n",
    "df[\"bigrams\"]=list(set(filtered_bigrams))\n",
    "df[\"word0\"]=df[\"bigrams\"].apply(lambda x :x[0])\n",
    "df[\"word1\"]=df[\"bigrams\"].apply(lambda x :x[1])\n",
    "df[\"bigrams_freq\"]=df[\"bigrams\"].apply(lambda x: dist[x] )\n",
    "df[\"word0_freq\"]=df[\"word0\"].apply(lambda x :word_dist[x])\n",
    "df[\"word1_freq\"]=df[\"word1\"].apply(lambda x : word_dist[x])\n",
    "df[\"PWMI\"] = df[[\"bigrams_freq\", \"word0_freq\", \"word1_freq\"]].apply(\n",
    "    lambda x: np.log2(x[\"bigrams_freq\"] / (x[\"word0_freq\"] * x[\"word1_freq\"])),\n",
    "    axis=1\n",
    ")\n",
    "df.sample(13)\n"
   ]
  },
  {
   "cell_type": "markdown",
   "id": "54a31eb0",
   "metadata": {},
   "source": [
    "Now if we sort the values  in decending order, in colum PWMI  that are less negative are nost probable to be allocations i wont doit because i found it redundant in this example.  REMEMBER, IT IS ALSO IMPORTANT THE BNGRAM HAS A HIGTHER FREQUENCY"
   ]
  },
  {
   "cell_type": "code",
   "execution_count": null,
   "id": "9e8c10c5",
   "metadata": {},
   "outputs": [
    {
     "ename": "NameError",
     "evalue": "name 'px' is not defined",
     "output_type": "error",
     "traceback": [
      "\u001b[31m---------------------------------------------------------------------------\u001b[39m",
      "\u001b[31mNameError\u001b[39m                                 Traceback (most recent call last)",
      "\u001b[36mCell\u001b[39m\u001b[36m \u001b[39m\u001b[32mIn[16]\u001b[39m\u001b[32m, line 1\u001b[39m\n\u001b[32m----> \u001b[39m\u001b[32m1\u001b[39m fig = \u001b[43mpx\u001b[49m.scatter(x = df[\u001b[33m'\u001b[39m\u001b[33mPMI\u001b[39m\u001b[33m'\u001b[39m].values, y = df[\u001b[33m'\u001b[39m\u001b[33mlog(bi_gram_freq)\u001b[39m\u001b[33m'\u001b[39m].values, color = df[\u001b[33m'\u001b[39m\u001b[33mPMI\u001b[39m\u001b[33m'\u001b[39m]+df[\u001b[33m'\u001b[39m\u001b[33mlog(bi_gram_freq)\u001b[39m\u001b[33m'\u001b[39m], \n\u001b[32m      2\u001b[39m                  size = (df[\u001b[33m'\u001b[39m\u001b[33mPMI\u001b[39m\u001b[33m'\u001b[39m]+df[\u001b[33m'\u001b[39m\u001b[33mlog(bi_gram_freq)\u001b[39m\u001b[33m'\u001b[39m]).apply(\u001b[38;5;28;01mlambda\u001b[39;00m x: \u001b[32m1\u001b[39m/(\u001b[32m1\u001b[39m+\u001b[38;5;28mabs\u001b[39m(x))).values, \n\u001b[32m      3\u001b[39m                  hover_name = df[\u001b[33m'\u001b[39m\u001b[33mbi_gram\u001b[39m\u001b[33m'\u001b[39m].values, width = \u001b[32m600\u001b[39m, height = \u001b[32m600\u001b[39m, labels = {\u001b[33m'\u001b[39m\u001b[33mx\u001b[39m\u001b[33m'\u001b[39m: \u001b[33m'\u001b[39m\u001b[33mPMI\u001b[39m\u001b[33m'\u001b[39m, \u001b[33m'\u001b[39m\u001b[33my\u001b[39m\u001b[33m'\u001b[39m: \u001b[33m'\u001b[39m\u001b[33mLog(Bigram Frequency)\u001b[39m\u001b[33m'\u001b[39m})\n\u001b[32m      4\u001b[39m fig.show()\n",
      "\u001b[31mNameError\u001b[39m: name 'px' is not defined"
     ]
    }
   ],
   "source": [
    "#colocation fig\n",
    "fig = px.scatter(x = df['PMI'].values, y = df['log(bi_gram_freq)'].values, color = df['PMI']+df['log(bi_gram_freq)'], \n",
    "                 size = (df['PMI']+df['log(bi_gram_freq)']).apply(lambda x: 1/(1+abs(x))).values, \n",
    "                 hover_name = df['bi_gram'].values, width = 600, height = 600, labels = {'x': 'PMI', 'y': 'Log(Bigram Frequency)'})\n",
    "fig.show()"
   ]
  },
  {
   "cell_type": "markdown",
   "id": "9b431ae2",
   "metadata": {},
   "source": [
    "now the collocations treatment with nltk"
   ]
  },
  {
   "cell_type": "code",
   "execution_count": 17,
   "id": "8c094ae6",
   "metadata": {},
   "outputs": [],
   "source": [
    "from nltk.collocations import*\n",
    "bigrams_mesure=nltk.collocations.BigramAssocMeasures()\n",
    "finder=BigramCollocationFinder.from_words(text4)"
   ]
  },
  {
   "cell_type": "code",
   "execution_count": 19,
   "id": "48ca45f7",
   "metadata": {},
   "outputs": [
    {
     "data": {
      "text/plain": [
       "[('Vice', 'President'),\n",
       " ('four', 'years'),\n",
       " ('Thank', 'you'),\n",
       " ('years', 'ago'),\n",
       " (\"'\", 's'),\n",
       " ('self', '-'),\n",
       " ('General', 'Government'),\n",
       " (\"'\", 't'),\n",
       " ('United', 'States'),\n",
       " ('no', 'longer')]"
      ]
     },
     "execution_count": 19,
     "metadata": {},
     "output_type": "execute_result"
    }
   ],
   "source": [
    "finder.apply_freq_filter(20)\n",
    "finder.nbest(bigrams_mesure.pmi,10)"
   ]
  },
  {
   "cell_type": "markdown",
   "id": "2b2085f2",
   "metadata": {},
   "source": [
    "### what are lexical resources?\n",
    " a word is POS (part of speach) tagged in a programming language thsi takes the from of a dictionary where the key is  the word and the value is al  the meta data about that word.\n",
    "lexicon= [palabra,categoria lexica]: [definicion]\n",
    "stop words, vocabularys , word frequencies distributions son un tipo de recurso lexico."
   ]
  },
  {
   "cell_type": "code",
   "execution_count": 26,
   "id": "6e188232",
   "metadata": {},
   "outputs": [],
   "source": [
    "from nltk.corpus import stopwords\n",
    "stopwords.words('spanish')\n",
    "def stopwords_percentage(text,language):\n",
    "    counter=0\n",
    "    temp=set(stopwords.words(language))\n",
    "    print(set)\n",
    "    for words in text:\n",
    "        if words.lower() in temp:\n",
    "            counter+=1\n",
    "    print(f'the length of the text is {len(text)}')\n",
    "    print(f'counter is {counter}')\n",
    "    porcentage=counter/len(text)\n",
    "    return porcentage*100"
   ]
  },
  {
   "cell_type": "code",
   "execution_count": 27,
   "id": "567dc091",
   "metadata": {},
   "outputs": [
    {
     "name": "stdout",
     "output_type": "stream",
     "text": [
      "<class 'set'>\n",
      "the length of the text is 156288\n",
      "counter is 74272\n"
     ]
    },
    {
     "data": {
      "text/plain": [
       "47.52252252252252"
      ]
     },
     "execution_count": 27,
     "metadata": {},
     "output_type": "execute_result"
    }
   ],
   "source": [
    "stopwords_percentage(text4,'english')"
   ]
  },
  {
   "cell_type": "markdown",
   "id": "38b1bc18",
   "metadata": {},
   "source": [
    "Now for translation we will work whit enrich lexicons  that are comparative lists"
   ]
  },
  {
   "cell_type": "code",
   "execution_count": 29,
   "id": "8b59342d",
   "metadata": {},
   "outputs": [
    {
     "name": "stdout",
     "output_type": "stream",
     "text": [
      "here the abreviation of  swadesh available languajes\n",
      "['be', 'bg', 'bs', 'ca', 'cs', 'cu', 'de', 'en', 'es', 'fr', 'hr', 'it', 'la', 'mk', 'nl', 'pl', 'pt', 'ro', 'ru', 'sk', 'sl', 'sr', 'sw', 'uk']\n",
      "this is the tubples inglish spanish [('I', 'yo'), ('you (singular), thou', 'tú, usted'), ('he', 'él'), ('we', 'nosotros'), ('you (plural)', 'vosotros, ustedes'), ('they', 'ellos, ellas'), ('this', 'este'), ('that', 'ese, aquel'), ('here', 'aquí, acá'), ('there', 'ahí, allí, allá'), ('who', 'quien'), ('what', 'que'), ('where', 'donde'), ('when', 'cuando'), ('how', 'como'), ('not', 'no'), ('all', 'todo'), ('many', 'muchos'), ('some', 'algunos, unos'), ('few', 'poco'), ('other', 'otro'), ('one', 'uno'), ('two', 'dos'), ('three', 'tres'), ('four', 'cuatro'), ('five', 'cinco'), ('big', 'grande'), ('long', 'largo'), ('wide', 'ancho'), ('thick', 'gordo'), ('heavy', 'pesado'), ('small', 'pequeño'), ('short', 'corto'), ('narrow', 'estrecho, angosto'), ('thin', 'delgado, flaco'), ('woman', 'mujer'), ('man (adult male)', 'hombre'), ('man (human being)', 'hombre'), ('child', 'niño'), ('wife', 'esposa, mujer'), ('husband', 'esposo, marido'), ('mother', 'madre'), ('father', 'padre'), ('animal', 'animal'), ('fish', 'pez, pescado'), ('bird', 'ave, pájaro'), ('dog', 'perro'), ('louse', 'piojo'), ('snake', 'serpiente, culebra'), ('worm', 'gusano'), ('tree', 'árbol'), ('forest', 'bosque'), ('stick', 'palo'), ('fruit', 'fruta'), ('seed', 'semilla'), ('leaf', 'hoja'), ('root', 'raíz'), ('bark (from tree)', 'corteza'), ('flower', 'flor'), ('grass', 'hierba, pasto'), ('rope', 'cuerda'), ('skin', 'piel'), ('meat', 'carne'), ('blood', 'sangre'), ('bone', 'hueso'), ('fat (noun)', 'grasa'), ('egg', 'huevo'), ('horn', 'cuerno'), ('tail', 'cola'), ('feather', 'pluma'), ('hair', 'cabello, pelo'), ('head', 'cabeza'), ('ear', 'oreja'), ('eye', 'ojo'), ('nose', 'nariz'), ('mouth', 'boca'), ('tooth', 'diente'), ('tongue', 'lengua'), ('fingernail', 'uña'), ('foot', 'pie'), ('leg', 'pierna'), ('knee', 'rodilla'), ('hand', 'mano'), ('wing', 'ala'), ('belly', 'barriga, vientre, panza'), ('guts', 'entrañas, tripas'), ('neck', 'cuello'), ('back', 'espalda'), ('breast', 'pecho, seno'), ('heart', 'corazón'), ('liver', 'hígado'), ('drink', 'beber, tomar'), ('eat', 'comer'), ('bite', 'morder'), ('suck', 'chupar'), ('spit', 'escupir'), ('vomit', 'vomitar'), ('blow', 'soplar'), ('breathe', 'respirar'), ('laugh', 'reír'), ('see', 'ver'), ('hear', 'oír'), ('know (a fact)', 'saber'), ('think', 'pensar'), ('smell', 'oler'), ('fear', 'temer'), ('sleep', 'dormir'), ('live', 'vivir'), ('die', 'morir'), ('kill', 'matar'), ('fight', 'pelear'), ('hunt', 'cazar'), ('hit', 'golpear'), ('cut', 'cortar'), ('split', 'partir'), ('stab', 'apuñalar'), ('scratch', 'arañar, rascar'), ('dig', 'cavar'), ('swim', 'nadar'), ('fly (verb)', 'volar'), ('walk', 'caminar'), ('come', 'venir'), ('lie', 'echarse, acostarse, tenderse'), ('sit', 'sentarse'), ('stand', 'estar de pie'), ('turn', 'voltear'), ('fall', 'caer'), ('give', 'dar'), ('hold', 'sostener'), ('squeeze', 'apretar'), ('rub', 'frotar'), ('wash', 'lavar'), ('wipe', 'limpiar'), ('pull', 'tirar'), ('push', 'empujar'), ('throw', 'tirar'), ('tie', 'atar'), ('sew', 'coser'), ('count', 'contar'), ('say', 'decir'), ('sing', 'cantar'), ('play', 'jugar'), ('float', 'flotar'), ('flow', 'fluir'), ('freeze', 'helar'), ('swell', 'hincharse'), ('sun', 'sol'), ('moon', 'luna'), ('star', 'estrella'), ('water', 'agua'), ('rain', 'lluvia'), ('river', 'río'), ('lake', 'lago'), ('sea', 'mar'), ('salt', 'sal'), ('stone', 'piedra'), ('sand', 'arena'), ('dust', 'polvo'), ('earth', 'tierra'), ('cloud', 'nube'), ('fog', 'niebla'), ('sky', 'cielo'), ('wind', 'viento'), ('snow', 'nieve'), ('ice', 'hielo'), ('smoke', 'humo'), ('fire', 'fuego'), ('ashes', 'cenizas'), ('burn', 'quemar'), ('road', 'camino'), ('mountain', 'montaña'), ('red', 'rojo'), ('green', 'verde'), ('yellow', 'amarillo'), ('white', 'blanco'), ('black', 'negro'), ('night', 'noche'), ('day', 'día'), ('year', 'año'), ('warm', 'cálido, tibio'), ('cold', 'frío'), ('full', 'lleno'), ('new', 'nuevo'), ('old', 'viejo'), ('good', 'bueno'), ('bad', 'malo'), ('rotten', 'podrido'), ('dirty', 'sucio'), ('straight', 'recto'), ('round', 'redondo'), ('sharp', 'afilado'), ('dull', 'desafilado'), ('smooth', 'suave, liso'), ('wet', 'mojado'), ('dry', 'seco'), ('correct', 'correcto'), ('near', 'cerca'), ('far', 'lejos'), ('right', 'derecha'), ('left', 'izquierda'), ('at', 'a, en, ante'), ('in', 'en'), ('with', 'con'), ('and', 'y'), ('if', 'si'), ('because', 'porque'), ('name', 'nombre')]\n",
      "[]\n"
     ]
    }
   ],
   "source": [
    "from nltk.corpus import swadesh\n",
    "print('here the abreviation of  swadesh available languajes')\n",
    "print(swadesh.fileids())\n",
    "eng_to_esp=swadesh.entries(['en','es'])\n",
    "print(f'this is the tubples inglish spanish {eng_to_esp}')\n",
    "def find_word(word, tuples_list):\n",
    "    return [tup for tup in tuples_list if word in tup]\n",
    "\n",
    "print(find_word(\"fileids\", eng_to_esp))  \n",
    "# [('good', 'morning')]\n",
    "\n"
   ]
  },
  {
   "cell_type": "markdown",
   "id": "41d4ecae",
   "metadata": {},
   "source": [
    "### WORD NET \n",
    "WAS A POPULAR LEXICAL DATA BASE each word was  linked to one or mor POS tags with  onen or mor senses (meanings)     . each sense has a gloss ( dictionary like definition) and a synset (synonim set).\n",
    "\n",
    "Each sense is map to a supersense lexicographic categorics  , and there are sense elations Hypername, Hyponem, meronym, Holonym, Antonym"
   ]
  },
  {
   "cell_type": "code",
   "execution_count": 13,
   "id": "ad197e8e",
   "metadata": {},
   "outputs": [
    {
     "name": "stderr",
     "output_type": "stream",
     "text": [
      "[nltk_data] Downloading package omw-1.4 to /home/dan/nltk_data...\n"
     ]
    },
    {
     "data": {
      "text/plain": [
       "True"
      ]
     },
     "execution_count": 13,
     "metadata": {},
     "output_type": "execute_result"
    }
   ],
   "source": [
    "nltk.download('omw-1.4')"
   ]
  },
  {
   "cell_type": "code",
   "execution_count": 7,
   "id": "5a8055da",
   "metadata": {},
   "outputs": [
    {
     "name": "stderr",
     "output_type": "stream",
     "text": [
      "[nltk_data] Downloading package omw to /home/dan/nltk_data...\n",
      "[nltk_data]   Package omw is already up-to-date!\n"
     ]
    }
   ],
   "source": [
    "import nltk\n",
    "nltk.download('omw')\n",
    "from nltk.corpus import wordnet as wn"
   ]
  },
  {
   "cell_type": "code",
   "execution_count": 17,
   "id": "810c1873",
   "metadata": {},
   "outputs": [
    {
     "name": "stdout",
     "output_type": "stream",
     "text": [
      "car.n.01 a motor vehicle with four wheels; usually propelled by an internal combustion engine\n",
      "* car\n",
      "* auto\n",
      "* automobile\n",
      "* machine\n",
      "* motorcar\n",
      "car.n.02 a wheeled vehicle adapted to the rails of railroad\n",
      "* car\n",
      "* railcar\n",
      "* railway_car\n",
      "* railroad_car\n",
      "car.n.03 the compartment that is suspended from an airship and that carries personnel and the cargo and the power plant\n",
      "* car\n",
      "* gondola\n",
      "car.n.04 where passengers ride up and down\n",
      "* car\n",
      "* elevator_car\n",
      "cable_car.n.01 a conveyance for passengers or freight on a cable railway\n",
      "* cable_car\n",
      "* car\n"
     ]
    }
   ],
   "source": [
    "#synset exploration\n",
    "ss=wn.synsets('car')\n",
    "for syn in ss:\n",
    "    print(syn.name(),syn.definition())\n",
    "    for name in syn.lemma_names():\n",
    "        print('*',name)"
   ]
  },
  {
   "cell_type": "code",
   "execution_count": 21,
   "id": "284020fc",
   "metadata": {},
   "outputs": [
    {
     "name": "stdout",
     "output_type": "stream",
     "text": [
      "cat.n.01 feline mammal usually having thick soft fur and no ability to roar: domestic cats; wildcats\n",
      "* cat\n",
      "* true_cat\n",
      "guy.n.01 an informal term for a youth or man\n",
      "* guy\n",
      "* cat\n",
      "* hombre\n",
      "* bozo\n",
      "cat.n.03 a spiteful woman gossip\n",
      "* cat\n",
      "kat.n.01 the leaves of the shrub Catha edulis which are chewed like tobacco or used to make tea; has the effect of a euphoric stimulant\n",
      "* kat\n",
      "* khat\n",
      "* qat\n",
      "* quat\n",
      "* cat\n",
      "* Arabian_tea\n",
      "* African_tea\n",
      "cat-o'-nine-tails.n.01 a whip with nine knotted cords\n",
      "* cat-o'-nine-tails\n",
      "* cat\n",
      "caterpillar.n.02 a large tracked vehicle that is propelled by two endless metal belts; frequently used for moving earth in construction and farm work\n",
      "* Caterpillar\n",
      "* cat\n",
      "big_cat.n.01 any of several large cats typically able to roar and living in the wild\n",
      "* big_cat\n",
      "* cat\n",
      "computerized_tomography.n.01 a method of examining body organs by scanning them with X rays and using a computer to construct a series of cross-sectional scans along a single axis\n",
      "* computerized_tomography\n",
      "* computed_tomography\n",
      "* CT\n",
      "* computerized_axial_tomography\n",
      "* computed_axial_tomography\n",
      "* CAT\n",
      "cat.v.01 beat with a cat-o'-nine-tails\n",
      "* cat\n",
      "vomit.v.01 eject the contents of the stomach through the mouth\n",
      "* vomit\n",
      "* vomit_up\n",
      "* purge\n",
      "* cast\n",
      "* sick\n",
      "* cat\n",
      "* be_sick\n",
      "* disgorge\n",
      "* regorge\n",
      "* retch\n",
      "* puke\n",
      "* barf\n",
      "* spew\n",
      "* spue\n",
      "* chuck\n",
      "* upchuck\n",
      "* honk\n",
      "* regurgitate\n",
      "* throw_up\n",
      "dog.n.01 a member of the genus Canis (probably descended from the common wolf) that has been domesticated by man since prehistoric times; occurs in many breeds\n",
      "* dog\n",
      "* domestic_dog\n",
      "* Canis_familiaris\n",
      "frump.n.01 a dull unattractive unpleasant girl or woman\n",
      "* frump\n",
      "* dog\n",
      "dog.n.03 informal term for a man\n",
      "* dog\n",
      "cad.n.01 someone who is morally reprehensible\n",
      "* cad\n",
      "* bounder\n",
      "* blackguard\n",
      "* dog\n",
      "* hound\n",
      "* heel\n",
      "frank.n.02 a smooth-textured sausage of minced beef or pork usually smoked; often served on a bread roll\n",
      "* frank\n",
      "* frankfurter\n",
      "* hotdog\n",
      "* hot_dog\n",
      "* dog\n",
      "* wiener\n",
      "* wienerwurst\n",
      "* weenie\n",
      "pawl.n.01 a hinged catch that fits into a notch of a ratchet to move a wheel forward or prevent it from moving backward\n",
      "* pawl\n",
      "* detent\n",
      "* click\n",
      "* dog\n",
      "andiron.n.01 metal supports for logs in a fireplace\n",
      "* andiron\n",
      "* firedog\n",
      "* dog\n",
      "* dog-iron\n",
      "chase.v.01 go after with the intent to catch\n",
      "* chase\n",
      "* chase_after\n",
      "* trail\n",
      "* tail\n",
      "* tag\n",
      "* give_chase\n",
      "* dog\n",
      "* go_after\n",
      "* track\n",
      "animal.n.01 a living organism characterized by voluntary movement\n",
      "* animal\n",
      "* animate_being\n",
      "* beast\n",
      "* brute\n",
      "* creature\n",
      "* fauna\n",
      "animal.s.01 marked by the appetites and passions of the body\n",
      "* animal\n",
      "* carnal\n",
      "* fleshly\n",
      "* sensual\n"
     ]
    },
    {
     "data": {
      "text/plain": [
       "0.1"
      ]
     },
     "execution_count": 21,
     "metadata": {},
     "output_type": "execute_result"
    }
   ],
   "source": [
    "#similitud semantica \n",
    "def show_syns(word):\n",
    "    ss=wn.synsets(word)\n",
    "    for syn in ss:\n",
    "        print(syn.name(),syn.definition())\n",
    "        for name in syn.lemma_names():\n",
    "            print('*',name)\n",
    "    return ss\n",
    "syn1=show_syns('cat')    \n",
    "syns2=show_syns('dog')\n",
    "syns3=show_syns('animal')\n",
    "word1=syn1[1]\n",
    "word2=syns2[0]\n",
    "word3=syns3[1]\n",
    "word3.path_similarity(word1)"
   ]
  },
  {
   "cell_type": "markdown",
   "id": "66bea85e",
   "metadata": {},
   "source": [
    "until now we have work with thext that wre already processed, now what if the text isnot for example a url of a wheb page with plain text or html?"
   ]
  },
  {
   "cell_type": "code",
   "execution_count": 22,
   "id": "6b93a56c",
   "metadata": {},
   "outputs": [
    {
     "name": "stderr",
     "output_type": "stream",
     "text": [
      "[nltk_data] Downloading package punkt to /home/dan/nltk_data...\n",
      "[nltk_data]   Package punkt is already up-to-date!\n",
      "[nltk_data] Downloading package stopwords to /home/dan/nltk_data...\n",
      "[nltk_data]   Package stopwords is already up-to-date!\n"
     ]
    }
   ],
   "source": [
    "# plain text\n",
    "import nltk\n",
    "nltk.download('punkt')\n",
    "nltk.download('stopwords')\n",
    "from nltk import word_tokenize\n",
    "\n",
    "from urllib import request\n",
    "url='https://daarojaspa.github.io/software/2025/07/22/A-sea-of-cables-and-protocols.html'\n",
    "response=request.urlopen(url)\n"
   ]
  },
  {
   "cell_type": "code",
   "execution_count": 25,
   "id": "3cdc1426",
   "metadata": {},
   "outputs": [
    {
     "name": "stdout",
     "output_type": "stream",
     "text": [
      "\n"
     ]
    }
   ],
   "source": [
    "raw=response.read().decode('utf8')\n",
    "tokens=[words for words in word_tokenize(raw) if len(words)>2]\n",
    "text=nltk.Text(tokens)\n",
    "text.collocations()"
   ]
  },
  {
   "cell_type": "code",
   "execution_count": null,
   "id": "c1c3709e",
   "metadata": {},
   "outputs": [],
   "source": [
    "##for html\n",
    "from bs4 import BeautifulSoup\n",
    "import re \n",
    "from nltk import RegexpTokenizer\n",
    "import requests\n",
    "request=requests.get(url)\n",
    "html=request.text\n",
    "soup=BeautifulSoup(html,'html.parser')# gerarquia de las tags"
   ]
  },
  {
   "cell_type": "code",
   "execution_count": null,
   "id": "3652636f",
   "metadata": {},
   "outputs": [],
   "source": []
  }
 ],
 "metadata": {
  "kernelspec": {
   "display_name": "base",
   "language": "python",
   "name": "python3"
  },
  "language_info": {
   "codemirror_mode": {
    "name": "ipython",
    "version": 3
   },
   "file_extension": ".py",
   "mimetype": "text/x-python",
   "name": "python",
   "nbconvert_exporter": "python",
   "pygments_lexer": "ipython3",
   "version": "3.12.2"
  }
 },
 "nbformat": 4,
 "nbformat_minor": 5
}
