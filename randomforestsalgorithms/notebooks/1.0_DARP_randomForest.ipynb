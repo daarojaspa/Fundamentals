{
 "cells": [
  {
   "cell_type": "code",
   "execution_count": 1,
   "id": "68d722a6",
   "metadata": {},
   "outputs": [],
   "source": [
    "#Importamos las librerias principales\n",
    "import numpy as np \n",
    "import pandas as pd \n",
    "import matplotlib.pyplot as plt\n",
    "import seaborn as sns \n",
    "from pprint import pprint as pp"
   ]
  },
  {
   "cell_type": "code",
   "execution_count": 2,
   "id": "5dda816c",
   "metadata": {},
   "outputs": [
    {
     "data": {
      "text/html": [
       "<div>\n",
       "<style scoped>\n",
       "    .dataframe tbody tr th:only-of-type {\n",
       "        vertical-align: middle;\n",
       "    }\n",
       "\n",
       "    .dataframe tbody tr th {\n",
       "        vertical-align: top;\n",
       "    }\n",
       "\n",
       "    .dataframe thead th {\n",
       "        text-align: right;\n",
       "    }\n",
       "</style>\n",
       "<table border=\"1\" class=\"dataframe\">\n",
       "  <thead>\n",
       "    <tr style=\"text-align: right;\">\n",
       "      <th></th>\n",
       "      <th>unique count</th>\n",
       "      <th>unique values</th>\n",
       "    </tr>\n",
       "  </thead>\n",
       "  <tbody>\n",
       "    <tr>\n",
       "      <th>buying price</th>\n",
       "      <td>4</td>\n",
       "      <td>[vhigh, high, med, low]</td>\n",
       "    </tr>\n",
       "    <tr>\n",
       "      <th>maintinance price</th>\n",
       "      <td>4</td>\n",
       "      <td>[vhigh, high, med, low]</td>\n",
       "    </tr>\n",
       "    <tr>\n",
       "      <th>number of doors</th>\n",
       "      <td>4</td>\n",
       "      <td>[2, 3, 4, 5more]</td>\n",
       "    </tr>\n",
       "    <tr>\n",
       "      <th>persons capacity</th>\n",
       "      <td>3</td>\n",
       "      <td>[2, 4, more]</td>\n",
       "    </tr>\n",
       "    <tr>\n",
       "      <th>luggage boot</th>\n",
       "      <td>3</td>\n",
       "      <td>[small, med, big]</td>\n",
       "    </tr>\n",
       "    <tr>\n",
       "      <th>safty stimated</th>\n",
       "      <td>3</td>\n",
       "      <td>[med, high, low]</td>\n",
       "    </tr>\n",
       "    <tr>\n",
       "      <th>target</th>\n",
       "      <td>4</td>\n",
       "      <td>[unacc, acc, vgood, good]</td>\n",
       "    </tr>\n",
       "  </tbody>\n",
       "</table>\n",
       "</div>"
      ],
      "text/plain": [
       "                   unique count              unique values\n",
       "buying price                  4    [vhigh, high, med, low]\n",
       "maintinance price             4    [vhigh, high, med, low]\n",
       "number of doors               4           [2, 3, 4, 5more]\n",
       "persons capacity              3               [2, 4, more]\n",
       "luggage boot                  3          [small, med, big]\n",
       "safty stimated                3           [med, high, low]\n",
       "target                        4  [unacc, acc, vgood, good]"
      ]
     },
     "execution_count": 2,
     "metadata": {},
     "output_type": "execute_result"
    }
   ],
   "source": [
    "\n",
    "path=\"/home/dan/PLATZI/data/Fundamentals/randomforestsalgorithms/data/external\"\n",
    "colum_names=[\"buying price\",\"maintinance price\",\"number of doors\",\"persons capacity\",\"luggage boot\",\"safty stimated\",\"target\"]\n",
    "\n",
    "#Cargamos dataset a utilizar\n",
    "df=pd.read_csv(path+\"/car_evaluation.csv\")\n",
    "df.columns=colum_names\n",
    "categorical= df.select_dtypes(include=['object']).columns\n",
    "uniqueValsSumary={\n",
    "    col:{'unique count':df[col].nunique(),'unique values':df[col].unique().tolist()}\n",
    "    for col in categorical\n",
    "    \n",
    "}\n",
    "uniqueValsSumary=pd.DataFrame.from_dict(uniqueValsSumary,orient='index')\n",
    "uniqueValsSumary\n"
   ]
  },
  {
   "cell_type": "code",
   "execution_count": 7,
   "id": "23bd4f10",
   "metadata": {},
   "outputs": [
    {
     "name": "stdout",
     "output_type": "stream",
     "text": [
      "accuracy in trainning: 0.9942052980132451, accuracy:0.9152215799614644,feature importance[0.22793515 0.15549442 0.06253721 0.18811995 0.07741391 0.28849935]\n"
     ]
    }
   ],
   "source": [
    "#we will separate and train a class tree not having on acount the umbalance\n",
    "X=df.drop([\"target\"],axis=1)\n",
    "Y=df[\"target\"]\n",
    "from sklearn.model_selection import train_test_split\n",
    "X_train,X_test,Y_train,Y_test=train_test_split(X,Y,test_size=0.3, random_state=37,stratify=Y)\n",
    "from sklearn.preprocessing import OrdinalEncoder \n",
    "from sklearn.preprocessing import LabelEncoder\n",
    "encoder=OrdinalEncoder()\n",
    "labeler=LabelEncoder()\n",
    "X_train=encoder.fit_transform(X_train)\n",
    "X_test=encoder.transform(X_test)\n",
    "Y_train=labeler.fit_transform(Y_train)\n",
    "Y_test=labeler.transform(Y_test)\n",
    "# the stratify astribute is necesary because the  encoder for labels does not know what to doo \n",
    "# when  in the test set you ask it to transforma a category never seen\n",
    "\n",
    "\n",
    "from sklearn.ensemble import RandomForestClassifier\n",
    "rf=RandomForestClassifier(n_estimators=5, random_state=73)\n",
    "rf.fit(X_train,Y_train)\n",
    "train_predictions=rf.predict(X_train)\n",
    "predictions=rf.predict(X_test) \n",
    "from sklearn.metrics import accuracy_score\n",
    "train_accuracy=accuracy_score(Y_train,train_predictions)\n",
    "accuracy=accuracy_score(Y_test,predictions)\n",
    "print(f\"accuracy in trainning: {train_accuracy}, accuracy:{accuracy},feature importance{rf.feature_importances_}\")"
   ]
  },
  {
   "cell_type": "markdown",
   "id": "b1e92de0",
   "metadata": {},
   "source": [
    " the  evaluation metrics appear to good to be true, i will guess there is something wrong because the unbalance data. lets see the clasification report."
   ]
  },
  {
   "cell_type": "code",
   "execution_count": 8,
   "id": "9c74f913",
   "metadata": {},
   "outputs": [
    {
     "name": "stdout",
     "output_type": "stream",
     "text": [
      "              precision    recall  f1-score   support\n",
      "\n",
      "           0       0.99      0.99      0.99       269\n",
      "           1       1.00      0.98      0.99        48\n",
      "           2       1.00      1.00      1.00       846\n",
      "           3       1.00      1.00      1.00        45\n",
      "\n",
      "    accuracy                           0.99      1208\n",
      "   macro avg       1.00      0.99      0.99      1208\n",
      "weighted avg       0.99      0.99      0.99      1208\n",
      "\n",
      "              precision    recall  f1-score   support\n",
      "\n",
      "           0       0.80      0.82      0.81       115\n",
      "           1       0.83      0.71      0.77        21\n",
      "           2       0.96      0.95      0.96       363\n",
      "           3       0.83      1.00      0.91        20\n",
      "\n",
      "    accuracy                           0.92       519\n",
      "   macro avg       0.86      0.87      0.86       519\n",
      "weighted avg       0.92      0.92      0.92       519\n",
      "\n"
     ]
    }
   ],
   "source": [
    "from sklearn.metrics import classification_report\n",
    "print(classification_report(Y_train,train_predictions))\n",
    "\n",
    "print(classification_report(Y_test,predictions))\n"
   ]
  },
  {
   "cell_type": "code",
   "execution_count": 11,
   "id": "79976f7d",
   "metadata": {},
   "outputs": [
    {
     "name": "stdout",
     "output_type": "stream",
     "text": [
      "Accuracy in training: 0.999, Accuracy in test: 0.988\n",
      "Feature importances:\n",
      "safty stimated       0.243092\n",
      "buying price         0.232674\n",
      "maintinance price    0.179012\n",
      "persons capacity     0.153425\n",
      "luggage boot         0.137946\n",
      "number of doors      0.053851\n",
      "dtype: float64\n",
      "\n",
      "Classification report on training set:\n",
      "              precision    recall  f1-score   support\n",
      "\n",
      "           0       1.00      1.00      1.00       846\n",
      "           1       1.00      1.00      1.00       846\n",
      "           2       1.00      1.00      1.00       847\n",
      "           3       1.00      1.00      1.00       846\n",
      "\n",
      "    accuracy                           1.00      3385\n",
      "   macro avg       1.00      1.00      1.00      3385\n",
      "weighted avg       1.00      1.00      1.00      3385\n",
      "\n",
      "\n",
      "Classification report on test set:\n",
      "              precision    recall  f1-score   support\n",
      "\n",
      "           0       0.95      1.00      0.98       363\n",
      "           1       1.00      1.00      1.00       363\n",
      "           2       1.00      0.95      0.97       362\n",
      "           3       1.00      1.00      1.00       363\n",
      "\n",
      "    accuracy                           0.99      1451\n",
      "   macro avg       0.99      0.99      0.99      1451\n",
      "weighted avg       0.99      0.99      0.99      1451\n",
      "\n"
     ]
    }
   ],
   "source": [
    "import pandas as pd\n",
    "from sklearn.model_selection import train_test_split\n",
    "from sklearn.preprocessing import OrdinalEncoder, LabelEncoder\n",
    "from sklearn.ensemble import RandomForestClassifier\n",
    "from sklearn.metrics import classification_report, accuracy_score\n",
    "from imblearn.over_sampling import RandomOverSampler\n",
    "\n",
    "# Apply oversampling\n",
    "oversampler = RandomOverSampler(random_state=37)\n",
    "x, y = oversampler.fit_resample(X, Y)\n",
    "\n",
    "# Encode features and labels\n",
    "encoder = OrdinalEncoder()\n",
    "labeler = LabelEncoder()\n",
    "\n",
    "# Split the data\n",
    "x_train, x_test, y_train, y_test = train_test_split(\n",
    "    x, y, test_size=0.3, random_state=37, stratify=y\n",
    ")\n",
    "\n",
    "# Transform features and labels\n",
    "x_train = encoder.fit_transform(x_train)\n",
    "x_test = encoder.transform(x_test)\n",
    "y_train = labeler.fit_transform(y_train)\n",
    "y_test = labeler.transform(y_test)\n",
    "\n",
    "# Train the Random Forest\n",
    "rf = RandomForestClassifier(n_estimators=5, random_state=73)\n",
    "rf.fit(x_train, y_train)\n",
    "\n",
    "# Evaluate the model\n",
    "train_predictions = rf.predict(x_train)\n",
    "predictions = rf.predict(x_test)\n",
    "\n",
    "train_accuracy = accuracy_score(y_train, train_predictions)\n",
    "test_accuracy = accuracy_score(y_test, predictions)\n",
    "\n",
    "print(f\"Accuracy in training: {train_accuracy:.3f}, Accuracy in test: {test_accuracy:.3f}\")\n",
    "\n",
    "# Show feature importances\n",
    "print(\"Feature importances:\")\n",
    "feature_names = X.columns if hasattr(X, 'columns') else [f\"feature_{i}\" for i in range(x_train.shape[1])]\n",
    "feature_scores = pd.Series(rf.feature_importances_, index=feature_names).sort_values(ascending=False)\n",
    "print(feature_scores)\n",
    "\n",
    "# Classification reports\n",
    "print(\"\\nClassification report on training set:\")\n",
    "print(classification_report(y_train, train_predictions))\n",
    "print(\"\\nClassification report on test set:\")\n",
    "print(classification_report(y_test, predictions))\n"
   ]
  },
  {
   "cell_type": "code",
   "execution_count": null,
   "id": "04a6ec55",
   "metadata": {},
   "outputs": [],
   "source": []
  },
  {
   "cell_type": "markdown",
   "id": "8f348595",
   "metadata": {},
   "source": [
    "the  aparent over fitting of the model can be coused 1 for the use of ordinal encoder in the features, artificial hierarchy , so its important to do this manually  this can be done  use the atibute categories give it an array with the order of the categories for each column  you want to specify the order."
   ]
  },
  {
   "cell_type": "markdown",
   "id": "94ee0ade",
   "metadata": {},
   "source": []
  }
 ],
 "metadata": {
  "kernelspec": {
   "display_name": "desicionTrees",
   "language": "python",
   "name": "python3"
  },
  "language_info": {
   "codemirror_mode": {
    "name": "ipython",
    "version": 3
   },
   "file_extension": ".py",
   "mimetype": "text/x-python",
   "name": "python",
   "nbconvert_exporter": "python",
   "pygments_lexer": "ipython3",
   "version": "3.11.13"
  }
 },
 "nbformat": 4,
 "nbformat_minor": 5
}
